{
  "nbformat": 4,
  "nbformat_minor": 0,
  "metadata": {
    "colab": {
      "name": "Untitled4.ipynb",
      "provenance": [],
      "authorship_tag": "ABX9TyMHu9gT9W7PjwzyjDSnNJiS",
      "include_colab_link": true
    },
    "kernelspec": {
      "name": "ir",
      "display_name": "R"
    }
  },
  "cells": [
    {
      "cell_type": "markdown",
      "metadata": {
        "id": "view-in-github",
        "colab_type": "text"
      },
      "source": [
        "<a href=\"https://colab.research.google.com/github/MagdaPla/UNET_PPM/blob/master/unet_ppm_mpla.ipynb\" target=\"_parent\"><img src=\"https://colab.research.google.com/assets/colab-badge.svg\" alt=\"Open In Colab\"/></a>"
      ]
    },
    {
      "cell_type": "code",
      "metadata": {
        "id": "akQLEYXtYzW2",
        "colab_type": "code",
        "colab": {
          "base_uri": "https://localhost:8080/",
          "height": 102
        },
        "outputId": "cf881409-e95d-4016-fa56-6dd9922b6d8e"
      },
      "source": [
        "install.packages(\"unet\")\n",
        "install.packages(\"keras\")\n",
        "install.packages(\"tfdatasets\")\n",
        "install.packages(\"tidyverse\")\n",
        "install.packages(\"rsample\")\n",
        "install.packages(\"reticulate\")\n",
        "install.packages(\"tibble\")"
      ],
      "execution_count": 3,
      "outputs": [
        {
          "output_type": "stream",
          "text": [
            "Installing package into ‘/usr/local/lib/R/site-library’\n",
            "(as ‘lib’ is unspecified)\n",
            "\n",
            "Warning message in install.packages(\"magick\"):\n",
            "“installation of package ‘magick’ had non-zero exit status”\n"
          ],
          "name": "stderr"
        }
      ]
    }
  ]
}